{
 "metadata": {
  "language_info": {
   "codemirror_mode": {
    "name": "ipython",
    "version": 3
   },
   "file_extension": ".py",
   "mimetype": "text/x-python",
   "name": "python",
   "nbconvert_exporter": "python",
   "pygments_lexer": "ipython3",
   "version": 3
  },
  "orig_nbformat": 2
 },
 "nbformat": 4,
 "nbformat_minor": 2,
 "cells": [
  {
   "source": [
    "# Alternatives to HETI's current stack algorithm"
   ],
   "cell_type": "markdown",
   "metadata": {}
  },
  {
   "source": [
    "## Motivation\n",
    "\n",
    "Last time we explored how HETI's current allocation algorithm (simulated annealing) actually works and what it means for students looking to optimise their preferencing strategy.\n",
    "\n",
    "This time we'll explore some proposals for alternative strategies.\n",
    "\n",
    "(initially, I was planning to make them all one article, but I realised it would be too long and unwieldy, so I've made the discussion of and comparison with alternative algorithms into a separate article)"
   ],
   "cell_type": "markdown",
   "metadata": {}
  },
  {
   "source": [
    "## Queensland Ballot Algorithm\n",
    "\n",
    "James Gatenby (and presumably some others) have proposed this algorithm as an alternative to the current optimised allocation pathway, with the key promise of disincentivising stacking.\n",
    "\n",
    "How does this claim stack up? (pun intended)"
   ],
   "cell_type": "markdown",
   "metadata": {}
  },
  {
   "source": [
    "### The algorithm itself\n",
    "\n",
    "The broad process of the algorithm is as follows:\n",
    "- Everybody is first allocated directly to their first preference\n",
    "- The algorithm then tries to balance oversubscribed and undersubscribed hospitals in the following manner:\n",
    "    - First an oversubscribed hospital is drawn from the pool\n",
    "    - A random applicant who preferenced this hospital first is bumped down to their highest undersubscribed preference\n",
    "\n",
    "This is as it is detailed on the [Queensland Government's website](https://www.health.qld.gov.au/employment/work-for-us/clinical/medical/recruitment/intern/selection/ballot).\n",
    "\n",
    "### Model assumptions\n",
    "\n",
    "Further details of the exact method are not provided in the petition or the website, e.g.:\n",
    "- How does this account for categories? What treatment do the first and other categories get in this regard? HETI's current approach first requires the hospitals to be filled just enough, whereas this does not.\n",
    "- How will DRA prefilling change, if at all, under this new system?\n",
    "\n",
    "Therefore, for the purposes of this article, I have assumed that:\n",
    "- Allocation and propagation is done on a per-category basis. That is, all of category 1 will be allocated and shuffled around before anyone from category 2 gets the chance. So in this way it can be considered somewhat equivalent to categorical allocation.\n",
    "- If the number of total available spots is more than the number of candidates in a category, then all candidates from that category will be subjected to the allocation process. Else, a random sample of the candidates will be taken to fill the remaining spots.\n",
    "- The DRA prefilling process remains intact."
   ],
   "cell_type": "markdown",
   "metadata": {}
  },
  {
   "source": [
    "### Application to scenarios"
   ],
   "cell_type": "markdown",
   "metadata": {}
  }
 ]
}